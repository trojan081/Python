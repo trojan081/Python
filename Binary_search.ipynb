{
 "cells": [
  {
   "cell_type": "markdown",
   "id": "629ba90d",
   "metadata": {},
   "source": [
    "### Task"
   ]
  },
  {
   "cell_type": "markdown",
   "id": "392133a8",
   "metadata": {},
   "source": [
   ]
  },
  {
   "cell_type": "markdown",
   "id": "0bdca4be",
   "metadata": {},
   "source": [
    "### Algorithm № 1"
   ]
  },
  {
   "cell_type": "code",
   "execution_count": 77,
   "id": "48b09d38",
   "metadata": {},
   "outputs": [],
   "source": [
    "def bsearch1(arr, key):\n",
    "    low, high = 0, len(arr)\n",
    "    while high - low > 1:\n",
    "        mid = (low + high) //2\n",
    "        if arr[mid] == key:\n",
    "            return mid\n",
    "        elif arr[mid] < key:\n",
    "            low = mid\n",
    "        else:\n",
    "            high = mid  \n",
    "    return None"
   ]
  },
  {
   "cell_type": "markdown",
   "id": "c387e252",
   "metadata": {},
   "source": [
    "**<u>1. Pointing out the bug.</u>**  \n",
    "\n",
    "A) During the code analisys, we can see some unusuall condition on the 3-rd row: <u>\"while high - low > 1:\"</u>. \n",
    "In the previous algorithms we used situation, when left index >= right index: <u>if l >= r: return -1</u>. So, the condition holds when l == r, and after that we return -1. It means that we start searching the key iff <u>r - l >= 0</u>, not > 1. And, for example, if we take the array of size 1, the condition will be <u>high - low == 1</u>, so the algorithm returns -1, although our number can exist in the array. Moreover, the algorithm will always return -1 for the key, which has 0 index.\n",
    "\n",
    "B) If we search deeper, we can find that it also has problems with keys, which are bigger than all the values of the array. Because of the problem of <u>low = mid</u>, where low assignes including mid, so the mid value will be checked again.\n",
    "\n",
    "\n",
    "**Is it a natural input?**\n",
    "\n",
    "We can say that searching a key in the array of size 1 is, probably, not a natural input. It's obvious to see manually either the key exist there or not. But if we are searching the key which is the first (index == 0) in the big size of array, we will never find it. As far as key, that is bigger than every values of the array.\n",
    "\n",
    "<font color=\"red\">     ! By the condition, we assume to use array sorted in a nondecreasing order as an input</font>\n",
    "\n",
    "Let's look at the code:"
   ]
  },
  {
   "cell_type": "code",
   "execution_count": 30,
   "id": "ecbf82ab",
   "metadata": {},
   "outputs": [
    {
     "name": "stdout",
     "output_type": "stream",
     "text": [
      "0\n"
     ]
    }
   ],
   "source": [
    "# Manual 'non-natural' input\n",
    "arr = [4]\n",
    "print(bsearch1(arr, 4))"
   ]
  },
  {
   "cell_type": "code",
   "execution_count": 31,
   "id": "60746054",
   "metadata": {},
   "outputs": [
    {
     "name": "stdout",
     "output_type": "stream",
     "text": [
      "0\n"
     ]
    }
   ],
   "source": [
    "# Normal situation of binary search\n",
    "arr = [1,4,6,8,9]\n",
    "print(bsearch1(arr, 1))"
   ]
  },
  {
   "cell_type": "code",
   "execution_count": 78,
   "id": "559b48c2",
   "metadata": {},
   "outputs": [
    {
     "ename": "KeyboardInterrupt",
     "evalue": "",
     "output_type": "error",
     "traceback": [
      "\u001b[1;31m---------------------------------------------------------------------------\u001b[0m",
      "\u001b[1;31mKeyboardInterrupt\u001b[0m                         Traceback (most recent call last)",
      "Cell \u001b[1;32mIn[78], line 4\u001b[0m\n\u001b[0;32m      1\u001b[0m \u001b[38;5;66;03m# Normal situation of binary search\u001b[39;00m\n\u001b[0;32m      3\u001b[0m arr \u001b[38;5;241m=\u001b[39m [\u001b[38;5;241m1\u001b[39m,\u001b[38;5;241m4\u001b[39m,\u001b[38;5;241m6\u001b[39m,\u001b[38;5;241m8\u001b[39m,\u001b[38;5;241m9\u001b[39m]\n\u001b[1;32m----> 4\u001b[0m \u001b[38;5;28mprint\u001b[39m(\u001b[43mbsearch1\u001b[49m\u001b[43m(\u001b[49m\u001b[43marr\u001b[49m\u001b[43m,\u001b[49m\u001b[43m \u001b[49m\u001b[38;5;241;43m10\u001b[39;49m\u001b[43m)\u001b[49m)\n",
      "Cell \u001b[1;32mIn[77], line 3\u001b[0m, in \u001b[0;36mbsearch1\u001b[1;34m(arr, key)\u001b[0m\n\u001b[0;32m      1\u001b[0m \u001b[38;5;28;01mdef\u001b[39;00m \u001b[38;5;21mbsearch1\u001b[39m(arr, key):\n\u001b[0;32m      2\u001b[0m     low, high \u001b[38;5;241m=\u001b[39m \u001b[38;5;241m0\u001b[39m, \u001b[38;5;28mlen\u001b[39m(arr)\n\u001b[1;32m----> 3\u001b[0m     \u001b[38;5;28;01mwhile\u001b[39;00m \u001b[43mhigh\u001b[49m\u001b[43m \u001b[49m\u001b[38;5;241;43m-\u001b[39;49m\u001b[43m \u001b[49m\u001b[43mlow\u001b[49m\u001b[43m \u001b[49m\u001b[38;5;241;43m>\u001b[39;49m\u001b[38;5;241;43m=\u001b[39;49m\u001b[43m \u001b[49m\u001b[38;5;241;43m1\u001b[39;49m:\n\u001b[0;32m      4\u001b[0m         mid \u001b[38;5;241m=\u001b[39m (low \u001b[38;5;241m+\u001b[39m high) \u001b[38;5;241m/\u001b[39m\u001b[38;5;241m/\u001b[39m\u001b[38;5;241m2\u001b[39m\n\u001b[0;32m      5\u001b[0m         \u001b[38;5;28;01mif\u001b[39;00m arr[mid] \u001b[38;5;241m==\u001b[39m key:\n",
      "\u001b[1;31mKeyboardInterrupt\u001b[0m: "
     ]
    }
   ],
   "source": [
    "# Gives infinite loop\n",
    "arr = [1,4,6,8,9]\n",
    "print(bsearch1(arr, 10))"
   ]
  },
  {
   "cell_type": "markdown",
   "id": "dc75ed4b",
   "metadata": {},
   "source": [
    "**<u>2. Suggest a fix of the bug</u>**\n",
    "\n",
    "So, this bug can be fix by changing the condition: <u>\"while high - low > 0:\"</u>. Also, to avoid infinite loop when key is bigger than all values, we will change <u>low = mid</u> to <u>low = mid + 1</u> to let the low index reach the end of the array and then return None. This will be enough for our algorithm to work correctly:"
   ]
  },
  {
   "cell_type": "code",
   "execution_count": 74,
   "id": "72f614f5",
   "metadata": {},
   "outputs": [],
   "source": [
    "def bsearch1(arr, key):\n",
    "    low, high = 0, len(arr)\n",
    "    while high - low > 0:  # Changed >1 to >0\n",
    "        mid = (low + high) //2\n",
    "        if arr[mid] == key:\n",
    "            return mid\n",
    "        elif arr[mid] < key:\n",
    "            low = mid + 1  # Added + 1\n",
    "        else:\n",
    "            high = mid\n",
    "    return None"
   ]
  },
  {
   "cell_type": "markdown",
   "id": "93c1dc4b",
   "metadata": {},
   "source": [
    "Let's check it:"
   ]
  },
  {
   "cell_type": "code",
   "execution_count": 4,
   "id": "9db5aadb",
   "metadata": {},
   "outputs": [
    {
     "name": "stdout",
     "output_type": "stream",
     "text": [
      "0\n"
     ]
    }
   ],
   "source": [
    "arr = [1,4,6,8,9]\n",
    "print(bsearch1(arr, 1))"
   ]
  },
  {
   "cell_type": "code",
   "execution_count": 84,
   "id": "93f0b405",
   "metadata": {},
   "outputs": [
    {
     "name": "stdout",
     "output_type": "stream",
     "text": [
      "None\n"
     ]
    }
   ],
   "source": [
    "arr = [1,4,6,8,9]\n",
    "print(bsearch1(arr, 10))"
   ]
  },
  {
   "cell_type": "markdown",
   "id": "6f33e7db",
   "metadata": {},
   "source": [
    "**<u>3. Suggest a natural test that could help to avoid the bug</u>**\n",
    "\n",
    "One natural test we already made in the step 1 for a more obvious visual analysis of the situation.  \n",
    "But checking algorithms manually is not a very convenient way. It's better to use the test functions to avoid such type of bug in the future.  \n",
    "\n",
    "So, We can write a function that will tell us either our algorithms have this bug or not.\n",
    "Our functin should check also boundary values:\n",
    "\n",
    "- it should take the name of testing funtion bsearch_i not to type it manually\n",
    "- if key has index 0\n",
    "- if key has index -1 (the last one in the array)\n",
    "- if key doesn't exist:\n",
    "    - when it is less then all values of the array\n",
    "    - when it is bigger then all values of the array\n",
    "\n",
    "We pass the array that way to take into account all these conditions:"
   ]
  },
  {
   "cell_type": "code",
   "execution_count": 3,
   "id": "81d3ecc4",
   "metadata": {},
   "outputs": [],
   "source": [
    "def test_bsearch(search_func, arr, range_num):\n",
    "    for i in range(range_num):\n",
    "        index = search_func(arr, i)\n",
    "        if i in arr:\n",
    "            if index == None:\n",
    "                raise Exception(f'Output error on index: {index}')\n",
    "        else:\n",
    "            if index != None:\n",
    "                raise Exception(f'Output error on index: {index}')\n",
    "    print('All tests passed')"
   ]
  },
  {
   "cell_type": "code",
   "execution_count": 79,
   "id": "005612e8",
   "metadata": {},
   "outputs": [
    {
     "name": "stdout",
     "output_type": "stream",
     "text": [
      "All tests passed\n",
      "CPU times: total: 531 ms\n",
      "Wall time: 528 ms\n"
     ]
    }
   ],
   "source": [
    "%%time\n",
    "arr = [i for i in range(1, 10000)]\n",
    "test_bsearch(bsearch1, arr, 9900)"
   ]
  },
  {
   "cell_type": "markdown",
   "id": "c4347a71",
   "metadata": {},
   "source": [
    "### Algorithm № 2"
   ]
  },
  {
   "cell_type": "code",
   "execution_count": 2,
   "id": "1b2eb65b",
   "metadata": {},
   "outputs": [],
   "source": [
    "def bsearch2(arr, key, left=0, right=None):\n",
    "    if right is None:\n",
    "        right = len(arr)\n",
    "    if right < left:       \n",
    "        return None\n",
    "    middle = (right + left) >> 1\n",
    "    if arr[middle] > key:\n",
    "        return bsearch2(arr, key, left, middle)\n",
    "    if arr[middle] < key:\n",
    "        return bsearch2(arr, key, middle + 1, right)\n",
    "    return middle"
   ]
  },
  {
   "cell_type": "markdown",
   "id": "b6b8557f",
   "metadata": {},
   "source": [
    "**<u>1. Pointing out the bug.</u>**  \n",
    "\n",
    "First of all, we can se unnecessary condition <u>if right is None: right = len(arr)</u>. We can't call this a bug, but it always runs only once and <u>right</u> will always become <u>len(arr)</u> and never get <u>None</u> again. But, by the condition we don't need to change such cases, so let's just keep it as is.\n",
    "\n",
    "Another unusual row is <u>middle = (right + left) >> 1</u>, but it's just a bitwise right shift, it divides the sum of right and left by 2. Actually, it is more efficient then //, so it's okay.\n",
    "\n",
    "A) Next, we can face with issue, which is similat as we met before: unexisting values cause infinite loop. It happens because we have <u>if right $<=$ left: return None </u>, but we need to return None in this step (it is just as the issue in the first algorithm, but reversed). Another issue is that we don't check condition <u>arr[middle] == key</u>, so we never find number which is equal to middle.\n",
    "\n",
    "If we test the code, we get infinite loop (better not to do that):"
   ]
  },
  {
   "cell_type": "code",
   "execution_count": null,
   "id": "957aba4d",
   "metadata": {},
   "outputs": [],
   "source": [
    "# Gives infinite loop\n",
    "arr = [i for i in range(1, 7)]\n",
    "test_bsearch(bsearch2, arr)"
   ]
  },
  {
   "cell_type": "markdown",
   "id": "2be0480d",
   "metadata": {},
   "source": [
    "**<u>2. Suggest a fix of the bug</u>**\n",
    "\n",
    "So, we need to change <u>right $<$ left</u> to <u>right $<=$ left</u> to make the case when two borders of the array meet each other and return None. Also, we need to check when arr[middle] equals to key. Let's add this -  <u>if arr[middle] == key: return middle</u>"
   ]
  },
  {
   "cell_type": "code",
   "execution_count": 31,
   "id": "dbbe4b18",
   "metadata": {},
   "outputs": [],
   "source": [
    "def bsearch2(arr, key, left=0, right=None):\n",
    "    if right is None:\n",
    "        right = len(arr)\n",
    "    if right <= left:  # Changed < to <=\n",
    "        return None\n",
    "    middle = (right + left) >> 1\n",
    "    if arr[middle] > key:\n",
    "        return bsearch2(arr, key, left, middle)\n",
    "    if arr[middle] < key:\n",
    "        return bsearch2(arr, key, middle + 1, right)\n",
    "    if arr[middle] == key:  # Added this condition\n",
    "        return middle\n",
    "    return None"
   ]
  },
  {
   "cell_type": "markdown",
   "id": "abfc1a1d",
   "metadata": {},
   "source": [
    "**<u>3. Suggest a natural test that could help to avoid the bug</u>**\n",
    "\n",
    "Let's again use our test function, but pass to it our new bsearch2 as an argument:"
   ]
  },
  {
   "cell_type": "code",
   "execution_count": 32,
   "id": "de2b2c93",
   "metadata": {},
   "outputs": [
    {
     "name": "stdout",
     "output_type": "stream",
     "text": [
      "All tests passed\n",
      "CPU times: total: 500 ms\n",
      "Wall time: 500 ms\n"
     ]
    }
   ],
   "source": [
    "%%time\n",
    "arr = [i for i in range(1, 10000)]\n",
    "test_bsearch(bsearch2, arr, 9900)"
   ]
  },
  {
   "cell_type": "markdown",
   "id": "2865d1e6",
   "metadata": {},
   "source": [
    "### Algorithm № 3"
   ]
  },
  {
   "cell_type": "code",
   "execution_count": 55,
   "id": "5c44c276",
   "metadata": {},
   "outputs": [],
   "source": [
    "def bsearch3(arr, key):\n",
    "    n = len(arr)\n",
    "    if n < 2:\n",
    "        return (0 if (n == 1 and arr[0] == key) else None)\n",
    "    \n",
    "    m = int(0.5 * n)\n",
    "    \n",
    "    if arr[m] > key:\n",
    "        return bsearch3(arr[:m], key)\n",
    "    result = bsearch3(arr[m:], key)\n",
    "    return (result + m if result != None else None)"
   ]
  },
  {
   "cell_type": "markdown",
   "id": "1faff130",
   "metadata": {},
   "source": [
    "**<u>1. Pointing out the bug.</u>**  \n",
    "\n",
    "A) First of all, it uses slices of arrays to make subarrays to call the function recursively. Also, it finds the middle of the array by operation <u>m = int(0.5 * n)</u>. It is more expensive due to int() opearation and possible big arrays. In generaly, it's very unefficient solution.\n",
    "\n",
    "According to the other cases, excluding efficiency, it works well.\n",
    "\n",
    "Let's check it with our function:"
   ]
  },
  {
   "cell_type": "code",
   "execution_count": 78,
   "id": "d3cc8b7a",
   "metadata": {},
   "outputs": [
    {
     "name": "stdout",
     "output_type": "stream",
     "text": [
      "All tests passed\n",
      "CPU times: total: 734 ms\n",
      "Wall time: 745 ms\n"
     ]
    }
   ],
   "source": [
    "%%time\n",
    "arr = [i for i in range(1, 10000)]\n",
    "test_bsearch(bsearch3, arr, 9900)"
   ]
  },
  {
   "cell_type": "markdown",
   "id": "09e42b4d",
   "metadata": {},
   "source": [
    "**<u>2. Suggest a fix of the bug</u>**\n",
    "\n",
    "So, we need to make it more efficient. <u> // 2</u> instead of <u>m = int(0.5 * n)</u>. Also, let's rewrite slicing."
   ]
  },
  {
   "cell_type": "code",
   "execution_count": 7,
   "id": "54012b83",
   "metadata": {},
   "outputs": [],
   "source": [
    "def bsearch3(arr, key, start=0):\n",
    "    n = len(arr)\n",
    "    \n",
    "    if n == 0:\n",
    "        return None\n",
    "    \n",
    "    m = n // 2\n",
    "    \n",
    "    if arr[m] == key:\n",
    "        return start + m\n",
    "    \n",
    "    if arr[m] > key:\n",
    "        return bsearch3(arr[:m], key, start)\n",
    "    \n",
    "    start = start + m + 1\n",
    "    arr = arr[m + 1:]\n",
    "    \n",
    "    return bsearch3(arr, key, start)"
   ]
  },
  {
   "cell_type": "markdown",
   "id": "9152586b",
   "metadata": {},
   "source": [
    "**<u>3. Suggest a natural test that could help to avoid the bug</u>**\n",
    "\n",
    "Let's again use our test function, but pass to it our new bsearch3 as an argument:"
   ]
  },
  {
   "cell_type": "code",
   "execution_count": 4,
   "id": "b0dc5da8",
   "metadata": {},
   "outputs": [
    {
     "name": "stdout",
     "output_type": "stream",
     "text": [
      "All tests passed\n",
      "CPU times: total: 688 ms\n",
      "Wall time: 700 ms\n"
     ]
    }
   ],
   "source": [
    "%%time\n",
    "arr = [i for i in range(1, 10000)]\n",
    "test_bsearch(bsearch3, arr, 9900)"
   ]
  },
  {
   "cell_type": "markdown",
   "id": "14396099",
   "metadata": {},
   "source": [
    "So, efficiency is still not so good because of slicing and recursion. If we want to increase efficiency, we have to rewrite a code a lot. By the condition we shouldn't do that, but let's try:"
   ]
  },
  {
   "cell_type": "code",
   "execution_count": 23,
   "id": "5ba5afd6",
   "metadata": {},
   "outputs": [],
   "source": [
    "def bsearch3(arr, key):\n",
    "    n = len(arr)\n",
    "    if n < 2:\n",
    "        return 0 if (n == 1 and arr[0] == key) else None\n",
    "    \n",
    "    low, high = 0, n - 1\n",
    "    while low <= high:\n",
    "        mid = (low + high) // 2\n",
    "        if arr[mid] < key:\n",
    "            low = mid + 1\n",
    "        elif arr[mid] > key:\n",
    "            high = mid - 1\n",
    "        else:\n",
    "            return mid\n",
    "    return None"
   ]
  },
  {
   "cell_type": "code",
   "execution_count": 24,
   "id": "743c7b0d",
   "metadata": {},
   "outputs": [
    {
     "name": "stdout",
     "output_type": "stream",
     "text": [
      "All tests passed\n",
      "CPU times: total: 516 ms\n",
      "Wall time: 520 ms\n"
     ]
    }
   ],
   "source": [
    "%%time\n",
    "arr = [i for i in range(1, 10000)]\n",
    "test_bsearch(bsearch3, arr, 9900)"
   ]
  },
  {
   "cell_type": "markdown",
   "id": "3664b62b",
   "metadata": {},
   "source": [
    "Now the efficiency is better, when we got rid of recursion and slicing, but we had to rewrite code too much."
   ]
  }
 ],
 "metadata": {
  "kernelspec": {
   "display_name": "Python 3 (ipykernel)",
   "language": "python",
   "name": "python3"
  },
  "language_info": {
   "codemirror_mode": {
    "name": "ipython",
    "version": 3
   },
   "file_extension": ".py",
   "mimetype": "text/x-python",
   "name": "python",
   "nbconvert_exporter": "python",
   "pygments_lexer": "ipython3",
   "version": "3.10.9"
  }
 },
 "nbformat": 4,
 "nbformat_minor": 5
}
